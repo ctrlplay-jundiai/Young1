{
 "cells": [
  {
   "cell_type": "markdown",
   "metadata": {},
   "source": [
    "# 🔸Variáveis🔸\n",
    "\n",
    "> Variáveis são usadas para armazenar e representar dados na memória do computador.\n",
    "\n",
    "O conceito de variáveis pode ser comparado a \"caixas\" ou \"gavetas\" em que podemos colocar valores, que podem ser números, textos ou outros tipos de dados.\n",
    "\n",
    "É muito simples criar uma variável em Python. Basta atribuir um valor a uma variável usando o operador de atribuição `=`. Por exemplo:"
   ]
  },
  {
   "cell_type": "code",
   "execution_count": 1,
   "metadata": {},
   "outputs": [],
   "source": [
    "nome = \"João\"\n",
    "idade = 16\n",
    "altura = 1.72"
   ]
  },
  {
   "cell_type": "markdown",
   "metadata": {},
   "source": [
    "Neste exemplo, `nome` é uma variável que contém o valor `\"João\"` e `idade` é outra variável que contém o valor `16`.\n",
    "\n",
    "As variáveis podem ser atualizadas com novos valores ao longo do programa:"
   ]
  },
  {
   "cell_type": "code",
   "execution_count": 2,
   "metadata": {},
   "outputs": [],
   "source": [
    "idade = 17"
   ]
  },
  {
   "cell_type": "markdown",
   "metadata": {},
   "source": [
    "Imagine que o João fez aniversário, logo sua idade foi alterada. Neste exemplo, a variável `idade` foi atualizada para o valor `17`.\n",
    "\n",
    "As variáveis são usadas para armazenar informações temporariamente durante a execução do programa e podem ser referenciadas e manipuladas em diferentes partes do código. Elas são muito úteis para lidar com dados e fazer cálculos, permitindo que você use valores específicos em vez de repetir os valores em todo o código."
   ]
  },
  {
   "cell_type": "markdown",
   "metadata": {},
   "source": [
    "## 🔸Tipagem Dinâmica🔸\n",
    "\n",
    "Diferente de outras linguagens de programação, não precisamos declarar o tipo da variável. Isso significa que o Python possui **tipagem dinâmica**. Porém, mesmo não precisando definir os tipos, nossas variáveis ainda possuem tipos!"
   ]
  },
  {
   "cell_type": "code",
   "execution_count": 3,
   "metadata": {},
   "outputs": [
    {
     "name": "stdout",
     "output_type": "stream",
     "text": [
      "João\n"
     ]
    }
   ],
   "source": [
    "# Imprime a variável 'nome'\n",
    "print(nome)"
   ]
  },
  {
   "cell_type": "code",
   "execution_count": 4,
   "metadata": {},
   "outputs": [
    {
     "name": "stdout",
     "output_type": "stream",
     "text": [
      "<class 'str'>\n"
     ]
    }
   ],
   "source": [
    "# Imprime o tipo da variável 'nome'\n",
    "print(type(nome))"
   ]
  },
  {
   "cell_type": "markdown",
   "metadata": {},
   "source": [
    "`<class 'str'>` indica que nossa variável `nome` é da classe string. Este assunto será melhor abordado na próxima aula"
   ]
  }
 ],
 "metadata": {
  "kernelspec": {
   "display_name": "Python 3",
   "language": "python",
   "name": "python3"
  },
  "language_info": {
   "codemirror_mode": {
    "name": "ipython",
    "version": 3
   },
   "file_extension": ".py",
   "mimetype": "text/x-python",
   "name": "python",
   "nbconvert_exporter": "python",
   "pygments_lexer": "ipython3",
   "version": "3.10.6"
  },
  "orig_nbformat": 4
 },
 "nbformat": 4,
 "nbformat_minor": 2
}
