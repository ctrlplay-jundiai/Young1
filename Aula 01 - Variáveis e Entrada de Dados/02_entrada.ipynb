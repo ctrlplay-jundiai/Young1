{
 "cells": [
  {
   "cell_type": "markdown",
   "metadata": {},
   "source": [
    "# 🔸Entrada de Dados🔸\n",
    "\n",
    "Aqui aprendemos a receber informações dos usuários, aqueles que utilizarão nossos programas feitos em Python. Nesta linguagem, basta utilizarmos o comando `input()`."
   ]
  },
  {
   "cell_type": "code",
   "execution_count": 1,
   "metadata": {},
   "outputs": [
    {
     "data": {
      "text/plain": [
       "'Hello World!'"
      ]
     },
     "execution_count": 1,
     "metadata": {},
     "output_type": "execute_result"
    }
   ],
   "source": [
    "input()"
   ]
  },
  {
   "cell_type": "markdown",
   "metadata": {},
   "source": [
    "Desta forma, a informação digitada no terminal será enviada ao nosso código. *Mas o que fazer depois disso?* 🤔\n",
    "\n",
    "**SIMPLES!** Vamos armazenar esta informação em uma variável!"
   ]
  },
  {
   "cell_type": "code",
   "execution_count": 2,
   "metadata": {},
   "outputs": [],
   "source": [
    "# Podemos personalizar a mensagem que aparecerá para o usuário, desta forma\n",
    "nome = input(\"Digite seu nome: \")"
   ]
  },
  {
   "cell_type": "markdown",
   "metadata": {},
   "source": [
    "E agora com essa informação armazenada, conseguimos utilizá-la em nosso código! Veja:"
   ]
  },
  {
   "cell_type": "code",
   "execution_count": 3,
   "metadata": {},
   "outputs": [
    {
     "name": "stdout",
     "output_type": "stream",
     "text": [
      "Daniel\n"
     ]
    }
   ],
   "source": [
    "print(nome)"
   ]
  },
  {
   "cell_type": "markdown",
   "metadata": {},
   "source": [
    "## 🔸F-Strings (Python 3.6+)🔸\n",
    "\n",
    "Este é um modo muito simples de formatar textos, utilizando variáveis e até mesmo códigos Python. Imagine que precisamos criar um código que envia uma mensagem personalizada para nosso usuário. Podemos fazer isso de algumas formas.\n",
    "\n",
    "Este é o meio mais comum na programação em geral. Podemos juntar textos utilizando o operador `+`. Já que a variável nome é um texto, não teremos problemas quanto a isso"
   ]
  },
  {
   "cell_type": "code",
   "execution_count": 4,
   "metadata": {},
   "outputs": [
    {
     "name": "stdout",
     "output_type": "stream",
     "text": [
      "Olá, Daniel! Tudo bem?\n"
     ]
    }
   ],
   "source": [
    "print(\"Olá, \" + nome + \"! Tudo bem?\")"
   ]
  },
  {
   "cell_type": "markdown",
   "metadata": {},
   "source": [
    "Mas imagine que precisamos criar um código que faça a soma de dois números:"
   ]
  },
  {
   "cell_type": "code",
   "execution_count": 5,
   "metadata": {},
   "outputs": [
    {
     "ename": "TypeError",
     "evalue": "can only concatenate str (not \"int\") to str",
     "output_type": "error",
     "traceback": [
      "\u001b[0;31m---------------------------------------------------------------------------\u001b[0m",
      "\u001b[0;31mTypeError\u001b[0m                                 Traceback (most recent call last)",
      "Cell \u001b[0;32mIn[5], line 9\u001b[0m\n\u001b[1;32m      6\u001b[0m soma \u001b[39m=\u001b[39m num1 \u001b[39m+\u001b[39m num2\n\u001b[1;32m      8\u001b[0m \u001b[39m# Imprimindo a variável 'soma' em uma frase\u001b[39;00m\n\u001b[0;32m----> 9\u001b[0m \u001b[39mprint\u001b[39m(\u001b[39m\"\u001b[39;49m\u001b[39mA soma é igual à \u001b[39;49m\u001b[39m\"\u001b[39;49m \u001b[39m+\u001b[39;49m soma)\n",
      "\u001b[0;31mTypeError\u001b[0m: can only concatenate str (not \"int\") to str"
     ]
    }
   ],
   "source": [
    "# Armazenando dois valores, em variáveis diferentes\n",
    "num1 = 5\n",
    "num2 = 8\n",
    "\n",
    "# Criando outra variável, sendo a soma das outras duas variáveis\n",
    "soma = num1 + num2\n",
    "\n",
    "# Imprimindo a variável 'soma' em uma frase\n",
    "print(\"A soma é igual à \" + soma)"
   ]
  },
  {
   "cell_type": "markdown",
   "metadata": {},
   "source": [
    "Este código gera um erro justamente porque nossa variável `soma` não é um texto, e sim um número. Não é possível juntar números e textos na linguagem Python.\n",
    "\n",
    "Então para resolver este problema, utilizaremos **f-strings**!"
   ]
  },
  {
   "cell_type": "code",
   "execution_count": 6,
   "metadata": {},
   "outputs": [
    {
     "name": "stdout",
     "output_type": "stream",
     "text": [
      "A soma é igual à 13\n"
     ]
    }
   ],
   "source": [
    "print(f\"A soma é igual à {soma}\")"
   ]
  },
  {
   "cell_type": "markdown",
   "metadata": {},
   "source": [
    "Precisamos apenas de lembrar de identificar nosso texto com a letra `f`, e assim podemos utilizar qualquer código python dentro das chaves `{}`! Fácil, não?\n",
    "\n",
    "OBS: podemos fazer o mesmo com o exemplo anterior"
   ]
  },
  {
   "cell_type": "code",
   "execution_count": 7,
   "metadata": {},
   "outputs": [
    {
     "name": "stdout",
     "output_type": "stream",
     "text": [
      "Olá, Daniel! Tudo bem?\n"
     ]
    }
   ],
   "source": [
    "print(f\"Olá, {nome}! Tudo bem?\")"
   ]
  }
 ],
 "metadata": {
  "kernelspec": {
   "display_name": "Python 3",
   "language": "python",
   "name": "python3"
  },
  "language_info": {
   "codemirror_mode": {
    "name": "ipython",
    "version": 3
   },
   "file_extension": ".py",
   "mimetype": "text/x-python",
   "name": "python",
   "nbconvert_exporter": "python",
   "pygments_lexer": "ipython3",
   "version": "3.10.6"
  },
  "orig_nbformat": 4
 },
 "nbformat": 4,
 "nbformat_minor": 2
}
